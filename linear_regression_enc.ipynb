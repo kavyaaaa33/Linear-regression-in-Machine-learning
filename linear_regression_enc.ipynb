{
  "nbformat": 4,
  "nbformat_minor": 0,
  "metadata": {
    "colab": {
      "name": "linear regression enc.ipynb",
      "provenance": [],
      "authorship_tag": "ABX9TyNI6tWLKBc/w0xZBn79b1CB",
      "include_colab_link": true
    },
    "kernelspec": {
      "name": "python3",
      "display_name": "Python 3"
    },
    "language_info": {
      "name": "python"
    }
  },
  "cells": [
    {
      "cell_type": "markdown",
      "metadata": {
        "id": "view-in-github",
        "colab_type": "text"
      },
      "source": [
        "<a href=\"https://colab.research.google.com/github/kavyaaaa33/Linear-regression-in-Machine-learning/blob/main/linear_regression_enc.ipynb\" target=\"_parent\"><img src=\"https://colab.research.google.com/assets/colab-badge.svg\" alt=\"Open In Colab\"/></a>"
      ]
    },
    {
      "cell_type": "code",
      "execution_count": 1,
      "metadata": {
        "id": "nIx8tMOWNHIx"
      },
      "outputs": [],
      "source": [
        "import numpy as np\n",
        "import matplotlib.pyplot as plt\n",
        "import pandas as pd"
      ]
    },
    {
      "cell_type": "code",
      "source": [
        "dataset = pd.read_csv('/content/RELIANCE.BO.csv')\n"
      ],
      "metadata": {
        "id": "v5PUDe_JNR8N"
      },
      "execution_count": 2,
      "outputs": []
    },
    {
      "cell_type": "code",
      "source": [
        "x = dataset.iloc[:, :-1].values\n",
        "x\n"
      ],
      "metadata": {
        "colab": {
          "base_uri": "https://localhost:8080/"
        },
        "id": "pyVeacuwNR0h",
        "outputId": "a64a1a97-69c1-4568-e42c-8eb25c43286a"
      },
      "execution_count": 3,
      "outputs": [
        {
          "output_type": "execute_result",
          "data": {
            "text/plain": [
              "array([[  1.],\n",
              "       [  2.],\n",
              "       [  3.],\n",
              "       [  4.],\n",
              "       [  5.],\n",
              "       [  6.],\n",
              "       [  7.],\n",
              "       [  8.],\n",
              "       [  9.],\n",
              "       [ 10.],\n",
              "       [ 11.],\n",
              "       [ 12.],\n",
              "       [ 13.],\n",
              "       [ 14.],\n",
              "       [ 15.],\n",
              "       [ 16.],\n",
              "       [ 17.],\n",
              "       [ 18.],\n",
              "       [ 19.],\n",
              "       [ 20.],\n",
              "       [ 21.],\n",
              "       [ 22.],\n",
              "       [ 23.],\n",
              "       [ 24.],\n",
              "       [ 25.],\n",
              "       [ 26.],\n",
              "       [ 27.],\n",
              "       [ 28.],\n",
              "       [ 29.],\n",
              "       [ 30.],\n",
              "       [ 31.],\n",
              "       [ 32.],\n",
              "       [ 33.],\n",
              "       [ 34.],\n",
              "       [ 35.],\n",
              "       [ 36.],\n",
              "       [ 37.],\n",
              "       [ 38.],\n",
              "       [ 39.],\n",
              "       [ 40.],\n",
              "       [ 41.],\n",
              "       [ 42.],\n",
              "       [ 43.],\n",
              "       [ 44.],\n",
              "       [ 45.],\n",
              "       [ 46.],\n",
              "       [ 47.],\n",
              "       [ 48.],\n",
              "       [ 49.],\n",
              "       [ 50.],\n",
              "       [ 51.],\n",
              "       [ 52.],\n",
              "       [ 53.],\n",
              "       [ 54.],\n",
              "       [ 55.],\n",
              "       [ 56.],\n",
              "       [ 57.],\n",
              "       [ 58.],\n",
              "       [ 59.],\n",
              "       [ 60.],\n",
              "       [ 61.],\n",
              "       [ 62.],\n",
              "       [ 63.],\n",
              "       [ 64.],\n",
              "       [ 65.],\n",
              "       [ 66.],\n",
              "       [ 67.],\n",
              "       [ 68.],\n",
              "       [ 69.],\n",
              "       [ 70.],\n",
              "       [ 71.],\n",
              "       [ 72.],\n",
              "       [ 73.],\n",
              "       [ 74.],\n",
              "       [ 75.],\n",
              "       [ 76.],\n",
              "       [ 77.],\n",
              "       [ 78.],\n",
              "       [ 79.],\n",
              "       [ 80.],\n",
              "       [ 81.],\n",
              "       [ 82.],\n",
              "       [ 83.],\n",
              "       [ 84.],\n",
              "       [ 85.],\n",
              "       [ 86.],\n",
              "       [ 87.],\n",
              "       [ 88.],\n",
              "       [ 89.],\n",
              "       [ 90.],\n",
              "       [ 91.],\n",
              "       [ 92.],\n",
              "       [ 93.],\n",
              "       [ 94.],\n",
              "       [ 95.],\n",
              "       [ 96.],\n",
              "       [ 97.],\n",
              "       [ 98.],\n",
              "       [ 99.],\n",
              "       [100.],\n",
              "       [101.],\n",
              "       [102.],\n",
              "       [103.],\n",
              "       [104.],\n",
              "       [105.],\n",
              "       [106.],\n",
              "       [107.],\n",
              "       [108.],\n",
              "       [109.],\n",
              "       [110.],\n",
              "       [111.],\n",
              "       [112.],\n",
              "       [113.],\n",
              "       [114.],\n",
              "       [115.],\n",
              "       [116.],\n",
              "       [117.],\n",
              "       [118.],\n",
              "       [119.],\n",
              "       [120.],\n",
              "       [121.],\n",
              "       [122.],\n",
              "       [123.],\n",
              "       [124.],\n",
              "       [125.],\n",
              "       [126.],\n",
              "       [127.],\n",
              "       [128.],\n",
              "       [129.],\n",
              "       [130.],\n",
              "       [131.],\n",
              "       [132.],\n",
              "       [133.],\n",
              "       [134.],\n",
              "       [135.],\n",
              "       [136.],\n",
              "       [137.],\n",
              "       [138.],\n",
              "       [139.],\n",
              "       [140.],\n",
              "       [141.],\n",
              "       [142.],\n",
              "       [143.],\n",
              "       [144.],\n",
              "       [145.],\n",
              "       [146.],\n",
              "       [147.],\n",
              "       [148.],\n",
              "       [149.],\n",
              "       [150.],\n",
              "       [151.],\n",
              "       [152.],\n",
              "       [153.],\n",
              "       [154.],\n",
              "       [155.],\n",
              "       [156.],\n",
              "       [157.],\n",
              "       [158.],\n",
              "       [159.],\n",
              "       [160.],\n",
              "       [161.],\n",
              "       [162.],\n",
              "       [163.],\n",
              "       [164.],\n",
              "       [165.],\n",
              "       [166.],\n",
              "       [167.],\n",
              "       [168.],\n",
              "       [169.],\n",
              "       [170.],\n",
              "       [171.],\n",
              "       [172.],\n",
              "       [173.],\n",
              "       [174.],\n",
              "       [175.],\n",
              "       [176.],\n",
              "       [177.],\n",
              "       [178.],\n",
              "       [179.],\n",
              "       [180.],\n",
              "       [181.],\n",
              "       [182.],\n",
              "       [183.],\n",
              "       [184.],\n",
              "       [185.],\n",
              "       [186.],\n",
              "       [187.],\n",
              "       [188.],\n",
              "       [189.],\n",
              "       [190.],\n",
              "       [191.],\n",
              "       [192.],\n",
              "       [193.],\n",
              "       [194.],\n",
              "       [195.],\n",
              "       [196.],\n",
              "       [197.],\n",
              "       [198.],\n",
              "       [199.],\n",
              "       [200.],\n",
              "       [201.],\n",
              "       [202.],\n",
              "       [203.],\n",
              "       [204.],\n",
              "       [205.],\n",
              "       [206.],\n",
              "       [207.],\n",
              "       [208.],\n",
              "       [209.],\n",
              "       [210.],\n",
              "       [211.],\n",
              "       [212.],\n",
              "       [213.],\n",
              "       [214.],\n",
              "       [215.],\n",
              "       [216.],\n",
              "       [217.],\n",
              "       [218.],\n",
              "       [219.],\n",
              "       [220.],\n",
              "       [221.],\n",
              "       [222.],\n",
              "       [223.],\n",
              "       [224.],\n",
              "       [225.],\n",
              "       [226.],\n",
              "       [227.],\n",
              "       [228.],\n",
              "       [229.],\n",
              "       [230.],\n",
              "       [231.],\n",
              "       [232.],\n",
              "       [233.],\n",
              "       [234.],\n",
              "       [235.],\n",
              "       [236.],\n",
              "       [237.],\n",
              "       [238.],\n",
              "       [239.],\n",
              "       [240.],\n",
              "       [241.],\n",
              "       [242.],\n",
              "       [243.],\n",
              "       [244.],\n",
              "       [245.],\n",
              "       [246.],\n",
              "       [247.],\n",
              "       [248.],\n",
              "       [249.]])"
            ]
          },
          "metadata": {},
          "execution_count": 3
        }
      ]
    },
    {
      "cell_type": "code",
      "source": [
        "y = dataset.iloc[:, -1].values\n",
        "y"
      ],
      "metadata": {
        "colab": {
          "base_uri": "https://localhost:8080/"
        },
        "id": "rEpFPfVONiKC",
        "outputId": "e8d6524d-473c-487f-8af5-9d629809e000"
      },
      "execution_count": 4,
      "outputs": [
        {
          "output_type": "execute_result",
          "data": {
            "text/plain": [
              "array([2146.5     , 2170.      , 2175.      , 2148.      , 2168.      ,\n",
              "       2163.899902, 2183.699951, 2207.      , 2232.      , 2240.      ,\n",
              "       2275.25    , 2275.      , 2260.      , 2307.5     , 2414.      ,\n",
              "       2429.100098, 2454.      , 2430.949951, 2428.      , 2378.      ,\n",
              "       2372.      , 2379.      , 2445.      , 2375.      , 2411.      ,\n",
              "       2409.      , 2445.      , 2500.      , 2484.199951, 2531.      ,\n",
              "       2562.      , 2527.850098, 2506.      , 2549.899902, 2565.      ,\n",
              "       2623.      , 2600.      , 2580.      , 2724.699951, 2641.      ,\n",
              "       2683.      , 2705.      , 2684.      , 2726.      , 2740.      ,\n",
              "       2725.949951, 2623.800049, 2699.      , 2614.449951, 2659.800049,\n",
              "       2621.      , 2586.      , 2531.199951, 2551.899902, 2504.75    ,\n",
              "       2494.899902, 2510.100098, 2502.      , 2518.899902, 2549.399902,\n",
              "       2560.      , 2600.      , 2573.      , 2499.699951, 2459.899902,\n",
              "       2440.      , 2339.      , 2381.399902, 2375.5     , 2470.      ,\n",
              "       2412.      , 2466.      , 2425.5     , 2466.899902, 2490.149902,\n",
              "       2421.      , 2381.699951, 2427.      , 2431.100098, 2444.      ,\n",
              "       2470.      , 2389.      , 2384.850098, 2404.      , 2395.      ,\n",
              "       2315.      , 2304.600098, 2314.5     , 2372.      , 2367.      ,\n",
              "       2362.899902, 2384.      , 2391.899902, 2398.      , 2370.      ,\n",
              "       2367.5     , 2410.      , 2460.149902, 2454.      , 2436.      ,\n",
              "       2453.949951, 2431.100098, 2472.449951, 2523.699951, 2530.      ,\n",
              "       2539.600098, 2553.      , 2526.300049, 2497.      , 2450.149902,\n",
              "       2478.100098, 2364.699951, 2345.      , 2365.      , 2355.      ,\n",
              "       2410.      , 2410.399902, 2384.      , 2349.      , 2338.      ,\n",
              "       2333.      , 2367.100098, 2397.399902, 2374.      , 2300.      ,\n",
              "       2352.      , 2427.550049, 2418.      , 2435.      , 2414.899902,\n",
              "       2352.      , 2398.600098, 2314.      , 2275.600098, 2247.050049,\n",
              "       2349.100098, 2411.      , 2355.      , 2296.      , 2205.      ,\n",
              "       2249.      , 2415.      , 2372.      , 2394.      , 2431.800049,\n",
              "       2387.949951, 2438.      , 2452.      , 2463.699951, 2526.199951,\n",
              "       2515.      , 2577.899902, 2611.      , 2637.      , 2637.899902,\n",
              "       2673.      , 2641.300049, 2657.      , 2655.      , 2588.649902,\n",
              "       2599.5     , 2563.      , 2599.      , 2588.      , 2577.      ,\n",
              "       2530.25    , 2554.100098, 2655.75    , 2759.      , 2765.050049,\n",
              "       2739.449951, 2708.      , 2759.699951, 2815.      , 2855.      ,\n",
              "       2755.5     , 2785.      , 2721.      , 2640.75    , 2575.      ,\n",
              "       2499.      , 2478.699951, 2419.      , 2432.      , 2432.      ,\n",
              "       2443.      , 2539.      , 2470.      , 2515.      , 2630.      ,\n",
              "       2624.      , 2632.350098, 2618.      , 2596.949951, 2619.800049,\n",
              "       2646.      , 2632.350098, 2645.      , 2746.949951, 2780.600098,\n",
              "       2764.      , 2775.199951, 2709.      , 2774.350098, 2653.800049,\n",
              "       2653.      , 2610.      , 2622.      , 2532.      , 2607.      ,\n",
              "       2552.399902, 2563.      , 2520.      , 2490.      , 2549.      ,\n",
              "       2482.149902, 2504.350098, 2576.      , 2580.      , 2388.800049,\n",
              "       2424.949951, 2425.050049, 2424.800049, 2414.899902, 2380.      ,\n",
              "       2411.      , 2429.      , 2389.699951, 2420.      , 2420.050049,\n",
              "       2411.      , 2535.      , 2498.      , 2500.      , 2469.      ,\n",
              "       2423.800049, 2419.399902, 2435.      , 2470.      , 2513.      ,\n",
              "       2572.800049, 2597.449951, 2616.      , 2577.      , 2535.      ,\n",
              "       2572.      , 2600.      , 2586.25    , 2649.800049])"
            ]
          },
          "metadata": {},
          "execution_count": 4
        }
      ]
    },
    {
      "cell_type": "code",
      "source": [
        "from sklearn.model_selection import train_test_split\n",
        "x_train, x_test, y_train, y_test = train_test_split(x, y, test_size = 0.2, random_state = 0)"
      ],
      "metadata": {
        "id": "YCTAKU9tNl8q"
      },
      "execution_count": 5,
      "outputs": []
    },
    {
      "cell_type": "code",
      "source": [
        "from sklearn.linear_model import LinearRegression\n",
        "regressor = LinearRegression()\n",
        "regressor.fit(x_train, y_train)"
      ],
      "metadata": {
        "colab": {
          "base_uri": "https://localhost:8080/"
        },
        "id": "wQZ1j61zNor1",
        "outputId": "c5ef588c-a0a1-4eca-99b4-211a24b5ed67"
      },
      "execution_count": 6,
      "outputs": [
        {
          "output_type": "execute_result",
          "data": {
            "text/plain": [
              "LinearRegression()"
            ]
          },
          "metadata": {},
          "execution_count": 6
        }
      ]
    },
    {
      "cell_type": "code",
      "source": [
        "y_pred = regressor.predict(x_test)"
      ],
      "metadata": {
        "id": "oltL0YI5NrRf"
      },
      "execution_count": 7,
      "outputs": []
    },
    {
      "cell_type": "code",
      "source": [
        "plt.scatter(x_test, y_test, color = 'red')\n",
        "plt.scatter(x_train, y_train, color = 'green')\n",
        "plt.plot(x_test, y_pred, color = 'blue')\n",
        "plt.xlabel('Volume')\n",
        "plt.ylabel('Profit')\n",
        "plt.show()"
      ],
      "metadata": {
        "colab": {
          "base_uri": "https://localhost:8080/",
          "height": 279
        },
        "id": "v78mbQ9VNt_N",
        "outputId": "573949ed-d733-4f49-edea-e930654fe5f1"
      },
      "execution_count": 8,
      "outputs": [
        {
          "output_type": "display_data",
          "data": {
            "text/plain": [
              "<Figure size 432x288 with 1 Axes>"
            ],
            "image/png": "[encoded data removed]"
          },
          "metadata": {
            "needs_background": "light"
          }
        }
      ]
    }
  ]
}